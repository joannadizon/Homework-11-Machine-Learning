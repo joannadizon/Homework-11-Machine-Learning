{
  "cells": [
    {
      "cell_type": "markdown",
      "id": "139aa2a1-67e6-46f5-a05c-e163cd6dc71f",
      "metadata": {
        "id": "139aa2a1-67e6-46f5-a05c-e163cd6dc71f"
      },
      "source": [
        "## Credit Risk Resampling Techniques"
      ]
    },
    {
      "cell_type": "code",
      "execution_count": 11,
      "id": "cff73d79-75e9-4bdb-8de1-fcad972bae75",
      "metadata": {
        "id": "cff73d79-75e9-4bdb-8de1-fcad972bae75"
      },
      "outputs": [],
      "source": [
        "import warnings\n",
        "warnings.filterwarnings('ignore')\n",
        "import numpy as np\n",
        "import pandas as pd\n",
        "from pathlib import Path\n",
        "from collections import Counter\n",
        "from sklearn.preprocessing import StandardScaler\n",
        "from sklearn.model_selection import train_test_split\n",
        "from sklearn.linear_model import LogisticRegression\n",
        "from sklearn.metrics import balanced_accuracy_score\n",
        "from sklearn.metrics import confusion_matrix\n",
        "from imblearn.metrics import classification_report_imbalanced\n",
        "from imblearn.over_sampling import RandomOverSampler\n",
        "from imblearn.over_sampling import SMOTE\n",
        "from imblearn.under_sampling import ClusterCentroids\n",
        "from imblearn.combine import SMOTEENN"
      ]
    },
    {
      "cell_type": "markdown",
      "id": "1a1a69ac-1717-4348-b3f8-eb79c8a7e833",
      "metadata": {
        "id": "1a1a69ac-1717-4348-b3f8-eb79c8a7e833"
      },
      "source": [
        "## Read the CSV into DataFrame\n"
      ]
    },
    {
      "cell_type": "code",
      "execution_count": 12,
      "id": "4ba6a5f5-1622-4a1e-b1bb-578aec653be6",
      "metadata": {
        "colab": {
          "base_uri": "https://localhost:8080/",
          "height": 270
        },
        "id": "4ba6a5f5-1622-4a1e-b1bb-578aec653be6",
        "outputId": "f99f9799-b133-47c0-f465-446c56532ed7"
      },
      "outputs": [
        {
          "output_type": "execute_result",
          "data": {
            "text/plain": [
              "   loan_size  interest_rate homeowner  borrower_income  debt_to_income  \\\n",
              "0    10700.0          7.672       own            52800        0.431818   \n",
              "1     8400.0          6.692       own            43600        0.311927   \n",
              "2     9000.0          6.963      rent            46100        0.349241   \n",
              "3    10700.0          7.664       own            52700        0.430740   \n",
              "4    10800.0          7.698  mortgage            53000        0.433962   \n",
              "\n",
              "   num_of_accounts  derogatory_marks  total_debt loan_status  \n",
              "0                5                 1       22800    low_risk  \n",
              "1                3                 0       13600    low_risk  \n",
              "2                3                 0       16100    low_risk  \n",
              "3                5                 1       22700    low_risk  \n",
              "4                5                 1       23000    low_risk  "
            ],
            "text/html": [
              "\n",
              "  <div id=\"df-7ec243d9-5f1b-4636-95fe-2c64e8cfe401\">\n",
              "    <div class=\"colab-df-container\">\n",
              "      <div>\n",
              "<style scoped>\n",
              "    .dataframe tbody tr th:only-of-type {\n",
              "        vertical-align: middle;\n",
              "    }\n",
              "\n",
              "    .dataframe tbody tr th {\n",
              "        vertical-align: top;\n",
              "    }\n",
              "\n",
              "    .dataframe thead th {\n",
              "        text-align: right;\n",
              "    }\n",
              "</style>\n",
              "<table border=\"1\" class=\"dataframe\">\n",
              "  <thead>\n",
              "    <tr style=\"text-align: right;\">\n",
              "      <th></th>\n",
              "      <th>loan_size</th>\n",
              "      <th>interest_rate</th>\n",
              "      <th>homeowner</th>\n",
              "      <th>borrower_income</th>\n",
              "      <th>debt_to_income</th>\n",
              "      <th>num_of_accounts</th>\n",
              "      <th>derogatory_marks</th>\n",
              "      <th>total_debt</th>\n",
              "      <th>loan_status</th>\n",
              "    </tr>\n",
              "  </thead>\n",
              "  <tbody>\n",
              "    <tr>\n",
              "      <th>0</th>\n",
              "      <td>10700.0</td>\n",
              "      <td>7.672</td>\n",
              "      <td>own</td>\n",
              "      <td>52800</td>\n",
              "      <td>0.431818</td>\n",
              "      <td>5</td>\n",
              "      <td>1</td>\n",
              "      <td>22800</td>\n",
              "      <td>low_risk</td>\n",
              "    </tr>\n",
              "    <tr>\n",
              "      <th>1</th>\n",
              "      <td>8400.0</td>\n",
              "      <td>6.692</td>\n",
              "      <td>own</td>\n",
              "      <td>43600</td>\n",
              "      <td>0.311927</td>\n",
              "      <td>3</td>\n",
              "      <td>0</td>\n",
              "      <td>13600</td>\n",
              "      <td>low_risk</td>\n",
              "    </tr>\n",
              "    <tr>\n",
              "      <th>2</th>\n",
              "      <td>9000.0</td>\n",
              "      <td>6.963</td>\n",
              "      <td>rent</td>\n",
              "      <td>46100</td>\n",
              "      <td>0.349241</td>\n",
              "      <td>3</td>\n",
              "      <td>0</td>\n",
              "      <td>16100</td>\n",
              "      <td>low_risk</td>\n",
              "    </tr>\n",
              "    <tr>\n",
              "      <th>3</th>\n",
              "      <td>10700.0</td>\n",
              "      <td>7.664</td>\n",
              "      <td>own</td>\n",
              "      <td>52700</td>\n",
              "      <td>0.430740</td>\n",
              "      <td>5</td>\n",
              "      <td>1</td>\n",
              "      <td>22700</td>\n",
              "      <td>low_risk</td>\n",
              "    </tr>\n",
              "    <tr>\n",
              "      <th>4</th>\n",
              "      <td>10800.0</td>\n",
              "      <td>7.698</td>\n",
              "      <td>mortgage</td>\n",
              "      <td>53000</td>\n",
              "      <td>0.433962</td>\n",
              "      <td>5</td>\n",
              "      <td>1</td>\n",
              "      <td>23000</td>\n",
              "      <td>low_risk</td>\n",
              "    </tr>\n",
              "  </tbody>\n",
              "</table>\n",
              "</div>\n",
              "      <button class=\"colab-df-convert\" onclick=\"convertToInteractive('df-7ec243d9-5f1b-4636-95fe-2c64e8cfe401')\"\n",
              "              title=\"Convert this dataframe to an interactive table.\"\n",
              "              style=\"display:none;\">\n",
              "        \n",
              "  <svg xmlns=\"http://www.w3.org/2000/svg\" height=\"24px\"viewBox=\"0 0 24 24\"\n",
              "       width=\"24px\">\n",
              "    <path d=\"M0 0h24v24H0V0z\" fill=\"none\"/>\n",
              "    <path d=\"M18.56 5.44l.94 2.06.94-2.06 2.06-.94-2.06-.94-.94-2.06-.94 2.06-2.06.94zm-11 1L8.5 8.5l.94-2.06 2.06-.94-2.06-.94L8.5 2.5l-.94 2.06-2.06.94zm10 10l.94 2.06.94-2.06 2.06-.94-2.06-.94-.94-2.06-.94 2.06-2.06.94z\"/><path d=\"M17.41 7.96l-1.37-1.37c-.4-.4-.92-.59-1.43-.59-.52 0-1.04.2-1.43.59L10.3 9.45l-7.72 7.72c-.78.78-.78 2.05 0 2.83L4 21.41c.39.39.9.59 1.41.59.51 0 1.02-.2 1.41-.59l7.78-7.78 2.81-2.81c.8-.78.8-2.07 0-2.86zM5.41 20L4 18.59l7.72-7.72 1.47 1.35L5.41 20z\"/>\n",
              "  </svg>\n",
              "      </button>\n",
              "      \n",
              "  <style>\n",
              "    .colab-df-container {\n",
              "      display:flex;\n",
              "      flex-wrap:wrap;\n",
              "      gap: 12px;\n",
              "    }\n",
              "\n",
              "    .colab-df-convert {\n",
              "      background-color: #E8F0FE;\n",
              "      border: none;\n",
              "      border-radius: 50%;\n",
              "      cursor: pointer;\n",
              "      display: none;\n",
              "      fill: #1967D2;\n",
              "      height: 32px;\n",
              "      padding: 0 0 0 0;\n",
              "      width: 32px;\n",
              "    }\n",
              "\n",
              "    .colab-df-convert:hover {\n",
              "      background-color: #E2EBFA;\n",
              "      box-shadow: 0px 1px 2px rgba(60, 64, 67, 0.3), 0px 1px 3px 1px rgba(60, 64, 67, 0.15);\n",
              "      fill: #174EA6;\n",
              "    }\n",
              "\n",
              "    [theme=dark] .colab-df-convert {\n",
              "      background-color: #3B4455;\n",
              "      fill: #D2E3FC;\n",
              "    }\n",
              "\n",
              "    [theme=dark] .colab-df-convert:hover {\n",
              "      background-color: #434B5C;\n",
              "      box-shadow: 0px 1px 3px 1px rgba(0, 0, 0, 0.15);\n",
              "      filter: drop-shadow(0px 1px 2px rgba(0, 0, 0, 0.3));\n",
              "      fill: #FFFFFF;\n",
              "    }\n",
              "  </style>\n",
              "\n",
              "      <script>\n",
              "        const buttonEl =\n",
              "          document.querySelector('#df-7ec243d9-5f1b-4636-95fe-2c64e8cfe401 button.colab-df-convert');\n",
              "        buttonEl.style.display =\n",
              "          google.colab.kernel.accessAllowed ? 'block' : 'none';\n",
              "\n",
              "        async function convertToInteractive(key) {\n",
              "          const element = document.querySelector('#df-7ec243d9-5f1b-4636-95fe-2c64e8cfe401');\n",
              "          const dataTable =\n",
              "            await google.colab.kernel.invokeFunction('convertToInteractive',\n",
              "                                                     [key], {});\n",
              "          if (!dataTable) return;\n",
              "\n",
              "          const docLinkHtml = 'Like what you see? Visit the ' +\n",
              "            '<a target=\"_blank\" href=https://colab.research.google.com/notebooks/data_table.ipynb>data table notebook</a>'\n",
              "            + ' to learn more about interactive tables.';\n",
              "          element.innerHTML = '';\n",
              "          dataTable['output_type'] = 'display_data';\n",
              "          await google.colab.output.renderOutput(dataTable, element);\n",
              "          const docLink = document.createElement('div');\n",
              "          docLink.innerHTML = docLinkHtml;\n",
              "          element.appendChild(docLink);\n",
              "        }\n",
              "      </script>\n",
              "    </div>\n",
              "  </div>\n",
              "  "
            ]
          },
          "metadata": {},
          "execution_count": 12
        }
      ],
      "source": [
        "# Load the data\n",
        "\n",
        "df = pd.read_csv('/content/lending_data.csv')\n",
        "df.head()"
      ]
    },
    {
      "cell_type": "markdown",
      "id": "58d2b619-3a90-4b69-b07b-dd5ab75a1be0",
      "metadata": {
        "id": "58d2b619-3a90-4b69-b07b-dd5ab75a1be0"
      },
      "source": [
        "## Split the Data into Training and Testing\n"
      ]
    },
    {
      "cell_type": "code",
      "execution_count": 13,
      "id": "1d1c5eac-8f72-4487-923c-cd12faa8e152",
      "metadata": {
        "id": "1d1c5eac-8f72-4487-923c-cd12faa8e152"
      },
      "outputs": [],
      "source": [
        "#Create our features\n",
        "X = df.drop(columns='loan_status')\n",
        "X = pd.get_dummies(X)\n",
        "\n",
        "#Create our target\n",
        "y= df['loan_status']"
      ]
    },
    {
      "cell_type": "code",
      "execution_count": 14,
      "id": "d61b0c7e-58f5-4e7d-a115-31fc80fb7a40",
      "metadata": {
        "colab": {
          "base_uri": "https://localhost:8080/",
          "height": 364
        },
        "id": "d61b0c7e-58f5-4e7d-a115-31fc80fb7a40",
        "outputId": "fc2752de-7422-4ecb-e06d-34f2ffe5e809"
      },
      "outputs": [
        {
          "output_type": "execute_result",
          "data": {
            "text/plain": [
              "          loan_size  interest_rate  borrower_income  debt_to_income  \\\n",
              "count  77536.000000   77536.000000     77536.000000    77536.000000   \n",
              "mean    9805.562577       7.292333     49221.949804        0.377318   \n",
              "std     2093.223153       0.889495      8371.635077        0.081519   \n",
              "min     5000.000000       5.250000     30000.000000        0.000000   \n",
              "25%     8700.000000       6.825000     44800.000000        0.330357   \n",
              "50%     9500.000000       7.172000     48100.000000        0.376299   \n",
              "75%    10400.000000       7.528000     51400.000000        0.416342   \n",
              "max    23800.000000      13.235000    105200.000000        0.714829   \n",
              "\n",
              "       num_of_accounts  derogatory_marks    total_debt  homeowner_mortgage  \\\n",
              "count     77536.000000      77536.000000  77536.000000        77536.000000   \n",
              "mean          3.826610          0.392308  19221.949804            0.497472   \n",
              "std           1.904426          0.582086   8371.635077            0.499997   \n",
              "min           0.000000          0.000000      0.000000            0.000000   \n",
              "25%           3.000000          0.000000  14800.000000            0.000000   \n",
              "50%           4.000000          0.000000  18100.000000            0.000000   \n",
              "75%           4.000000          1.000000  21400.000000            1.000000   \n",
              "max          16.000000          3.000000  75200.000000            1.000000   \n",
              "\n",
              "       homeowner_own  homeowner_rent  \n",
              "count   77536.000000    77536.000000  \n",
              "mean        0.398911        0.103616  \n",
              "std         0.489678        0.304764  \n",
              "min         0.000000        0.000000  \n",
              "25%         0.000000        0.000000  \n",
              "50%         0.000000        0.000000  \n",
              "75%         1.000000        0.000000  \n",
              "max         1.000000        1.000000  "
            ],
            "text/html": [
              "\n",
              "  <div id=\"df-88687efa-a2a7-4528-9fe5-ed013891315f\">\n",
              "    <div class=\"colab-df-container\">\n",
              "      <div>\n",
              "<style scoped>\n",
              "    .dataframe tbody tr th:only-of-type {\n",
              "        vertical-align: middle;\n",
              "    }\n",
              "\n",
              "    .dataframe tbody tr th {\n",
              "        vertical-align: top;\n",
              "    }\n",
              "\n",
              "    .dataframe thead th {\n",
              "        text-align: right;\n",
              "    }\n",
              "</style>\n",
              "<table border=\"1\" class=\"dataframe\">\n",
              "  <thead>\n",
              "    <tr style=\"text-align: right;\">\n",
              "      <th></th>\n",
              "      <th>loan_size</th>\n",
              "      <th>interest_rate</th>\n",
              "      <th>borrower_income</th>\n",
              "      <th>debt_to_income</th>\n",
              "      <th>num_of_accounts</th>\n",
              "      <th>derogatory_marks</th>\n",
              "      <th>total_debt</th>\n",
              "      <th>homeowner_mortgage</th>\n",
              "      <th>homeowner_own</th>\n",
              "      <th>homeowner_rent</th>\n",
              "    </tr>\n",
              "  </thead>\n",
              "  <tbody>\n",
              "    <tr>\n",
              "      <th>count</th>\n",
              "      <td>77536.000000</td>\n",
              "      <td>77536.000000</td>\n",
              "      <td>77536.000000</td>\n",
              "      <td>77536.000000</td>\n",
              "      <td>77536.000000</td>\n",
              "      <td>77536.000000</td>\n",
              "      <td>77536.000000</td>\n",
              "      <td>77536.000000</td>\n",
              "      <td>77536.000000</td>\n",
              "      <td>77536.000000</td>\n",
              "    </tr>\n",
              "    <tr>\n",
              "      <th>mean</th>\n",
              "      <td>9805.562577</td>\n",
              "      <td>7.292333</td>\n",
              "      <td>49221.949804</td>\n",
              "      <td>0.377318</td>\n",
              "      <td>3.826610</td>\n",
              "      <td>0.392308</td>\n",
              "      <td>19221.949804</td>\n",
              "      <td>0.497472</td>\n",
              "      <td>0.398911</td>\n",
              "      <td>0.103616</td>\n",
              "    </tr>\n",
              "    <tr>\n",
              "      <th>std</th>\n",
              "      <td>2093.223153</td>\n",
              "      <td>0.889495</td>\n",
              "      <td>8371.635077</td>\n",
              "      <td>0.081519</td>\n",
              "      <td>1.904426</td>\n",
              "      <td>0.582086</td>\n",
              "      <td>8371.635077</td>\n",
              "      <td>0.499997</td>\n",
              "      <td>0.489678</td>\n",
              "      <td>0.304764</td>\n",
              "    </tr>\n",
              "    <tr>\n",
              "      <th>min</th>\n",
              "      <td>5000.000000</td>\n",
              "      <td>5.250000</td>\n",
              "      <td>30000.000000</td>\n",
              "      <td>0.000000</td>\n",
              "      <td>0.000000</td>\n",
              "      <td>0.000000</td>\n",
              "      <td>0.000000</td>\n",
              "      <td>0.000000</td>\n",
              "      <td>0.000000</td>\n",
              "      <td>0.000000</td>\n",
              "    </tr>\n",
              "    <tr>\n",
              "      <th>25%</th>\n",
              "      <td>8700.000000</td>\n",
              "      <td>6.825000</td>\n",
              "      <td>44800.000000</td>\n",
              "      <td>0.330357</td>\n",
              "      <td>3.000000</td>\n",
              "      <td>0.000000</td>\n",
              "      <td>14800.000000</td>\n",
              "      <td>0.000000</td>\n",
              "      <td>0.000000</td>\n",
              "      <td>0.000000</td>\n",
              "    </tr>\n",
              "    <tr>\n",
              "      <th>50%</th>\n",
              "      <td>9500.000000</td>\n",
              "      <td>7.172000</td>\n",
              "      <td>48100.000000</td>\n",
              "      <td>0.376299</td>\n",
              "      <td>4.000000</td>\n",
              "      <td>0.000000</td>\n",
              "      <td>18100.000000</td>\n",
              "      <td>0.000000</td>\n",
              "      <td>0.000000</td>\n",
              "      <td>0.000000</td>\n",
              "    </tr>\n",
              "    <tr>\n",
              "      <th>75%</th>\n",
              "      <td>10400.000000</td>\n",
              "      <td>7.528000</td>\n",
              "      <td>51400.000000</td>\n",
              "      <td>0.416342</td>\n",
              "      <td>4.000000</td>\n",
              "      <td>1.000000</td>\n",
              "      <td>21400.000000</td>\n",
              "      <td>1.000000</td>\n",
              "      <td>1.000000</td>\n",
              "      <td>0.000000</td>\n",
              "    </tr>\n",
              "    <tr>\n",
              "      <th>max</th>\n",
              "      <td>23800.000000</td>\n",
              "      <td>13.235000</td>\n",
              "      <td>105200.000000</td>\n",
              "      <td>0.714829</td>\n",
              "      <td>16.000000</td>\n",
              "      <td>3.000000</td>\n",
              "      <td>75200.000000</td>\n",
              "      <td>1.000000</td>\n",
              "      <td>1.000000</td>\n",
              "      <td>1.000000</td>\n",
              "    </tr>\n",
              "  </tbody>\n",
              "</table>\n",
              "</div>\n",
              "      <button class=\"colab-df-convert\" onclick=\"convertToInteractive('df-88687efa-a2a7-4528-9fe5-ed013891315f')\"\n",
              "              title=\"Convert this dataframe to an interactive table.\"\n",
              "              style=\"display:none;\">\n",
              "        \n",
              "  <svg xmlns=\"http://www.w3.org/2000/svg\" height=\"24px\"viewBox=\"0 0 24 24\"\n",
              "       width=\"24px\">\n",
              "    <path d=\"M0 0h24v24H0V0z\" fill=\"none\"/>\n",
              "    <path d=\"M18.56 5.44l.94 2.06.94-2.06 2.06-.94-2.06-.94-.94-2.06-.94 2.06-2.06.94zm-11 1L8.5 8.5l.94-2.06 2.06-.94-2.06-.94L8.5 2.5l-.94 2.06-2.06.94zm10 10l.94 2.06.94-2.06 2.06-.94-2.06-.94-.94-2.06-.94 2.06-2.06.94z\"/><path d=\"M17.41 7.96l-1.37-1.37c-.4-.4-.92-.59-1.43-.59-.52 0-1.04.2-1.43.59L10.3 9.45l-7.72 7.72c-.78.78-.78 2.05 0 2.83L4 21.41c.39.39.9.59 1.41.59.51 0 1.02-.2 1.41-.59l7.78-7.78 2.81-2.81c.8-.78.8-2.07 0-2.86zM5.41 20L4 18.59l7.72-7.72 1.47 1.35L5.41 20z\"/>\n",
              "  </svg>\n",
              "      </button>\n",
              "      \n",
              "  <style>\n",
              "    .colab-df-container {\n",
              "      display:flex;\n",
              "      flex-wrap:wrap;\n",
              "      gap: 12px;\n",
              "    }\n",
              "\n",
              "    .colab-df-convert {\n",
              "      background-color: #E8F0FE;\n",
              "      border: none;\n",
              "      border-radius: 50%;\n",
              "      cursor: pointer;\n",
              "      display: none;\n",
              "      fill: #1967D2;\n",
              "      height: 32px;\n",
              "      padding: 0 0 0 0;\n",
              "      width: 32px;\n",
              "    }\n",
              "\n",
              "    .colab-df-convert:hover {\n",
              "      background-color: #E2EBFA;\n",
              "      box-shadow: 0px 1px 2px rgba(60, 64, 67, 0.3), 0px 1px 3px 1px rgba(60, 64, 67, 0.15);\n",
              "      fill: #174EA6;\n",
              "    }\n",
              "\n",
              "    [theme=dark] .colab-df-convert {\n",
              "      background-color: #3B4455;\n",
              "      fill: #D2E3FC;\n",
              "    }\n",
              "\n",
              "    [theme=dark] .colab-df-convert:hover {\n",
              "      background-color: #434B5C;\n",
              "      box-shadow: 0px 1px 3px 1px rgba(0, 0, 0, 0.15);\n",
              "      filter: drop-shadow(0px 1px 2px rgba(0, 0, 0, 0.3));\n",
              "      fill: #FFFFFF;\n",
              "    }\n",
              "  </style>\n",
              "\n",
              "      <script>\n",
              "        const buttonEl =\n",
              "          document.querySelector('#df-88687efa-a2a7-4528-9fe5-ed013891315f button.colab-df-convert');\n",
              "        buttonEl.style.display =\n",
              "          google.colab.kernel.accessAllowed ? 'block' : 'none';\n",
              "\n",
              "        async function convertToInteractive(key) {\n",
              "          const element = document.querySelector('#df-88687efa-a2a7-4528-9fe5-ed013891315f');\n",
              "          const dataTable =\n",
              "            await google.colab.kernel.invokeFunction('convertToInteractive',\n",
              "                                                     [key], {});\n",
              "          if (!dataTable) return;\n",
              "\n",
              "          const docLinkHtml = 'Like what you see? Visit the ' +\n",
              "            '<a target=\"_blank\" href=https://colab.research.google.com/notebooks/data_table.ipynb>data table notebook</a>'\n",
              "            + ' to learn more about interactive tables.';\n",
              "          element.innerHTML = '';\n",
              "          dataTable['output_type'] = 'display_data';\n",
              "          await google.colab.output.renderOutput(dataTable, element);\n",
              "          const docLink = document.createElement('div');\n",
              "          docLink.innerHTML = docLinkHtml;\n",
              "          element.appendChild(docLink);\n",
              "        }\n",
              "      </script>\n",
              "    </div>\n",
              "  </div>\n",
              "  "
            ]
          },
          "metadata": {},
          "execution_count": 14
        }
      ],
      "source": [
        "X.describe()"
      ]
    },
    {
      "cell_type": "code",
      "execution_count": 15,
      "id": "b520b3ae-ad8a-4935-9360-353d10528546",
      "metadata": {
        "colab": {
          "base_uri": "https://localhost:8080/"
        },
        "id": "b520b3ae-ad8a-4935-9360-353d10528546",
        "outputId": "5ea1bca0-5a57-4569-e75c-64a988ec906d"
      },
      "outputs": [
        {
          "output_type": "execute_result",
          "data": {
            "text/plain": [
              "low_risk     75036\n",
              "high_risk     2500\n",
              "Name: loan_status, dtype: int64"
            ]
          },
          "metadata": {},
          "execution_count": 15
        }
      ],
      "source": [
        "#check the balance of our target values\n",
        "y.value_counts()"
      ]
    },
    {
      "cell_type": "code",
      "execution_count": 16,
      "id": "829a15d6-7c3a-4e69-9dc2-8f6c0c5e707e",
      "metadata": {
        "id": "829a15d6-7c3a-4e69-9dc2-8f6c0c5e707e"
      },
      "outputs": [],
      "source": [
        "#Create X_train, X_test, y_train, y_test\n",
        "\n",
        "X_train, X_test, y_train, y_test = train_test_split(X, y, random_state=1,stratify=y)"
      ]
    },
    {
      "cell_type": "markdown",
      "id": "e9f5c929-f9c6-4307-b905-0f4b023ba538",
      "metadata": {
        "id": "e9f5c929-f9c6-4307-b905-0f4b023ba538"
      },
      "source": [
        "## Data pre-processing"
      ]
    },
    {
      "cell_type": "markdown",
      "id": "5b4d9375-5cb8-42b3-a3ad-2ad140de92de",
      "metadata": {
        "id": "5b4d9375-5cb8-42b3-a3ad-2ad140de92de"
      },
      "source": [
        "Scale the training and testing data using the StandardScaler from sklearn. Remember that when scaling the data, you only scale the features data (X_train and X_testing)."
      ]
    },
    {
      "cell_type": "code",
      "execution_count": 17,
      "id": "b12f6503-b827-446a-a34b-1abee4086b30",
      "metadata": {
        "id": "b12f6503-b827-446a-a34b-1abee4086b30"
      },
      "outputs": [],
      "source": [
        "# Create the StandardScaler instance\n",
        "scaler = StandardScaler()"
      ]
    },
    {
      "cell_type": "code",
      "execution_count": 18,
      "id": "16d53705-df1a-4780-ae01-ec1d212fc40e",
      "metadata": {
        "id": "16d53705-df1a-4780-ae01-ec1d212fc40e"
      },
      "outputs": [],
      "source": [
        "# Fit the Standard Scaler with the training data\n",
        "#When fitting scaling functions, only train on the training dataset\n",
        "X_scaler = scaler.fit(X_train)"
      ]
    },
    {
      "cell_type": "code",
      "execution_count": 19,
      "id": "a6bd8366-d498-4506-83d2-48efd119c8d5",
      "metadata": {
        "id": "a6bd8366-d498-4506-83d2-48efd119c8d5"
      },
      "outputs": [],
      "source": [
        "#Scale the training and testing data\n",
        "\n",
        "X_train_scaled = X_scaler.transform(X_train)\n",
        "X_test_scaled = X_scaler.transform(X_test)"
      ]
    },
    {
      "cell_type": "markdown",
      "id": "96ad2d08-dcd0-4200-a8e0-191100464684",
      "metadata": {
        "id": "96ad2d08-dcd0-4200-a8e0-191100464684"
      },
      "source": [
        "## Simple Logistic Regression"
      ]
    },
    {
      "cell_type": "code",
      "execution_count": 20,
      "id": "df99fd6a-bddb-4a4b-b7eb-6eef1c8f0238",
      "metadata": {
        "colab": {
          "base_uri": "https://localhost:8080/"
        },
        "id": "df99fd6a-bddb-4a4b-b7eb-6eef1c8f0238",
        "outputId": "18405827-cfd1-49e8-c023-1db81b16102f"
      },
      "outputs": [
        {
          "output_type": "execute_result",
          "data": {
            "text/plain": [
              "LogisticRegression(random_state=1)"
            ]
          },
          "metadata": {},
          "execution_count": 20
        }
      ],
      "source": [
        "#Generating the model\n",
        "model = LogisticRegression(solver='lbfgs',random_state=1)\n",
        "#Fitting the model with only training data\n",
        "model.fit(X_train, y_train)"
      ]
    },
    {
      "cell_type": "code",
      "execution_count": 21,
      "id": "2659f4fb-f0b9-4113-b9c6-1c5e5e0dce54",
      "metadata": {
        "colab": {
          "base_uri": "https://localhost:8080/"
        },
        "id": "2659f4fb-f0b9-4113-b9c6-1c5e5e0dce54",
        "outputId": "7f89f03a-402e-4e6a-8470-d15a88bd78b4"
      },
      "outputs": [
        {
          "output_type": "execute_result",
          "data": {
            "text/plain": [
              "0.9543211898288821"
            ]
          },
          "metadata": {},
          "execution_count": 21
        }
      ],
      "source": [
        "#Calculate the balanced accuracy score\n",
        "\n",
        "y_pred = model.predict(X_test)\n",
        "balanced_accuracy_score(y_test, y_pred)"
      ]
    },
    {
      "cell_type": "code",
      "execution_count": 22,
      "id": "e2724e05-ea08-487e-a7b8-32fcfe3c2ce8",
      "metadata": {
        "colab": {
          "base_uri": "https://localhost:8080/"
        },
        "id": "e2724e05-ea08-487e-a7b8-32fcfe3c2ce8",
        "outputId": "912d1fc6-2d4a-45f5-e577-d99cf8b66749"
      },
      "outputs": [
        {
          "output_type": "execute_result",
          "data": {
            "text/plain": [
              "array([[  571,    54],\n",
              "       [   93, 18666]])"
            ]
          },
          "metadata": {},
          "execution_count": 22
        }
      ],
      "source": [
        "#Display the confusion matrix\n",
        "confusion_matrix(y_test, y_pred)"
      ]
    },
    {
      "cell_type": "code",
      "execution_count": 23,
      "id": "5df18392-00e1-4bd7-b7cf-0008e4d61425",
      "metadata": {
        "colab": {
          "base_uri": "https://localhost:8080/"
        },
        "id": "5df18392-00e1-4bd7-b7cf-0008e4d61425",
        "outputId": "30afaf2a-e958-4f2c-f6f8-735a7a5e10aa"
      },
      "outputs": [
        {
          "output_type": "stream",
          "name": "stdout",
          "text": [
            "                   pre       rec       spe        f1       geo       iba       sup\n",
            "\n",
            "  high_risk       0.86      0.91      1.00      0.89      0.95      0.90       625\n",
            "   low_risk       1.00      1.00      0.91      1.00      0.95      0.92     18759\n",
            "\n",
            "avg / total       0.99      0.99      0.92      0.99      0.95      0.92     19384\n",
            "\n"
          ]
        }
      ],
      "source": [
        "#Print the imbalanced classification report\n",
        "print(classification_report_imbalanced(y_test,y_pred))"
      ]
    },
    {
      "cell_type": "markdown",
      "id": "fd04d886-337e-42a5-b1eb-e90aaccb6e1a",
      "metadata": {
        "id": "fd04d886-337e-42a5-b1eb-e90aaccb6e1a"
      },
      "source": [
        "# Oversampling\n",
        "\n",
        "In this section, you will compare two oversampling algorithms to determine which algorithm results in best performance. You will oversample the data using the naive random oversampling algorithm and the SMOTE algorithm. For each algorithm, be sure to complete the following steps: \n",
        "\n",
        "1.View the count of the target classes using Counter from the collections library.\n",
        "    \n",
        "    2. Usethe resampled data to train a logistic regression model.\n",
        "    \n",
        "    3. Calculate the balanced accuracy score from sklearn.metrics.\n",
        "    \n",
        "    4. Print the confusion matrix from sklearn.metrics.\n",
        "    \n",
        "    5. Generate a classification report using the imbalanced_classification_report from imbalanced_classification_report from imbalanced-learn.\n",
        "    \n",
        "Note: Use a random state of 1 for each sampling algorithm to ensure consistency between tests."
      ]
    },
    {
      "cell_type": "markdown",
      "id": "ceb1ce06-63a5-4778-a766-24424f6f8bf0",
      "metadata": {
        "id": "ceb1ce06-63a5-4778-a766-24424f6f8bf0"
      },
      "source": [
        "### Naive Random Oversampling"
      ]
    },
    {
      "cell_type": "code",
      "execution_count": 24,
      "id": "b9da67ba-c88d-4d5f-bb8c-3016cdb794a4",
      "metadata": {
        "colab": {
          "base_uri": "https://localhost:8080/"
        },
        "id": "b9da67ba-c88d-4d5f-bb8c-3016cdb794a4",
        "outputId": "32733b77-2ade-4598-f1ab-957525d6800c"
      },
      "outputs": [
        {
          "output_type": "execute_result",
          "data": {
            "text/plain": [
              "Counter({'high_risk': 56277, 'low_risk': 56277})"
            ]
          },
          "metadata": {},
          "execution_count": 24
        }
      ],
      "source": [
        "#Resample the training data with the RandomOversampler\n",
        "\n",
        "ros = RandomOverSampler(random_state=1)\n",
        "X_resampled, y_resampled = ros.fit_resample(X_train, y_train)\n",
        "\n",
        "#View the count of target classes with Counter\n",
        "Counter(y_resampled)"
      ]
    },
    {
      "cell_type": "code",
      "execution_count": 25,
      "id": "f68a88df-fed6-4287-8057-54c61aad12df",
      "metadata": {
        "colab": {
          "base_uri": "https://localhost:8080/"
        },
        "id": "f68a88df-fed6-4287-8057-54c61aad12df",
        "outputId": "b810bccf-9cb3-427a-ff22-cb98a2d9745b"
      },
      "outputs": [
        {
          "output_type": "execute_result",
          "data": {
            "text/plain": [
              "LogisticRegression(random_state=1)"
            ]
          },
          "metadata": {},
          "execution_count": 25
        }
      ],
      "source": [
        "#Train the Logistic Regression model using the rsampled data\n",
        "\n",
        "model = LogisticRegression(solver='lbfgs',random_state=1)\n",
        "model.fit(X_resampled, y_resampled)"
      ]
    },
    {
      "cell_type": "code",
      "execution_count": 26,
      "id": "1988cb15-37da-43cf-9106-e4c9b91d4e7f",
      "metadata": {
        "colab": {
          "base_uri": "https://localhost:8080/"
        },
        "id": "1988cb15-37da-43cf-9106-e4c9b91d4e7f",
        "outputId": "c85ef0df-7f8f-486b-e85d-6053654313ed"
      },
      "outputs": [
        {
          "output_type": "execute_result",
          "data": {
            "text/plain": [
              "0.9543211898288821"
            ]
          },
          "metadata": {},
          "execution_count": 26
        }
      ],
      "source": [
        "#Calculate the balanced accuracy score\n",
        "balanced_accuracy_score(y_test, y_pred)"
      ]
    },
    {
      "cell_type": "code",
      "execution_count": 27,
      "id": "8a0774cf-43bc-4b3d-8a28-49df99ba69a8",
      "metadata": {
        "colab": {
          "base_uri": "https://localhost:8080/"
        },
        "id": "8a0774cf-43bc-4b3d-8a28-49df99ba69a8",
        "outputId": "43a3be72-5765-4932-c899-69826f18ef3d"
      },
      "outputs": [
        {
          "output_type": "execute_result",
          "data": {
            "text/plain": [
              "array([[  622,     3],\n",
              "       [  106, 18653]])"
            ]
          },
          "metadata": {},
          "execution_count": 27
        }
      ],
      "source": [
        "#Display the confusion matrix\n",
        "\n",
        "y_pred = model.predict(X_test)\n",
        "confusion_matrix(y_test, y_pred)"
      ]
    },
    {
      "cell_type": "code",
      "execution_count": 28,
      "id": "ebad11c3-d24b-4671-9ac6-60def8675321",
      "metadata": {
        "colab": {
          "base_uri": "https://localhost:8080/"
        },
        "id": "ebad11c3-d24b-4671-9ac6-60def8675321",
        "outputId": "3956161b-3487-4536-caf2-f42aa8728f58"
      },
      "outputs": [
        {
          "output_type": "stream",
          "name": "stdout",
          "text": [
            "                   pre       rec       spe        f1       geo       iba       sup\n",
            "\n",
            "  high_risk       0.85      1.00      0.99      0.92      0.99      0.99       625\n",
            "   low_risk       1.00      0.99      1.00      1.00      0.99      0.99     18759\n",
            "\n",
            "avg / total       1.00      0.99      1.00      0.99      0.99      0.99     19384\n",
            "\n"
          ]
        }
      ],
      "source": [
        "#Print the imbalanced classification report\n",
        "print(classification_report_imbalanced(y_test, y_pred))"
      ]
    },
    {
      "cell_type": "markdown",
      "id": "64a9f642-93fe-458c-844d-92727121820c",
      "metadata": {
        "id": "64a9f642-93fe-458c-844d-92727121820c"
      },
      "source": [
        "## SMOTE Oversampling"
      ]
    },
    {
      "cell_type": "code",
      "execution_count": 29,
      "id": "a4cabfa9-a31c-496c-8201-3f6c1b84b0b4",
      "metadata": {
        "id": "a4cabfa9-a31c-496c-8201-3f6c1b84b0b4"
      },
      "outputs": [],
      "source": [
        "#Resample the training data with SMOTE\n",
        "\n",
        "\n",
        "X_resampled, y_resampled = SMOTE(random_state=1, sampling_strategy=1.0).fit_resample(\n",
        "    X_train, y_train\n",
        ")"
      ]
    },
    {
      "cell_type": "code",
      "execution_count": 30,
      "id": "436f79f4-ec32-4984-a833-6f2d83ba7e52",
      "metadata": {
        "colab": {
          "base_uri": "https://localhost:8080/"
        },
        "id": "436f79f4-ec32-4984-a833-6f2d83ba7e52",
        "outputId": "671a99dd-901b-43af-a85e-a5c6d0326c02"
      },
      "outputs": [
        {
          "output_type": "execute_result",
          "data": {
            "text/plain": [
              "Counter({'high_risk': 56277, 'low_risk': 56277})"
            ]
          },
          "metadata": {},
          "execution_count": 30
        }
      ],
      "source": [
        "#View the count of the target classes with counter\n",
        "Counter(y_resampled)"
      ]
    },
    {
      "cell_type": "code",
      "execution_count": 31,
      "id": "916f8c57-c86e-43ba-a433-c33d270023c0",
      "metadata": {
        "colab": {
          "base_uri": "https://localhost:8080/"
        },
        "id": "916f8c57-c86e-43ba-a433-c33d270023c0",
        "outputId": "ea747eac-f596-4e2f-e24f-f8c6063ba5bf"
      },
      "outputs": [
        {
          "output_type": "execute_result",
          "data": {
            "text/plain": [
              "LogisticRegression(random_state=1)"
            ]
          },
          "metadata": {},
          "execution_count": 31
        }
      ],
      "source": [
        "#Train the Logistic Regression model using the resampled data\n",
        "model = LogisticRegression(solver='lbfgs', random_state=1)\n",
        "model.fit(X_resampled, y_resampled)"
      ]
    },
    {
      "cell_type": "code",
      "execution_count": 32,
      "id": "b6d5db5f-72e8-4c8c-a492-47d1d1c2d17b",
      "metadata": {
        "colab": {
          "base_uri": "https://localhost:8080/"
        },
        "id": "b6d5db5f-72e8-4c8c-a492-47d1d1c2d17b",
        "outputId": "3e1254e0-2ce6-46fd-ff9a-8f60c300965b"
      },
      "outputs": [
        {
          "output_type": "execute_result",
          "data": {
            "text/plain": [
              "0.9948279972279972"
            ]
          },
          "metadata": {},
          "execution_count": 32
        }
      ],
      "source": [
        "#Calculate the balanced accuracy score\n",
        "y_pred = model.predict(X_test)\n",
        "balanced_accuracy_score(y_test, y_pred)"
      ]
    },
    {
      "cell_type": "code",
      "execution_count": 33,
      "id": "356bf27b-696e-4348-aa16-439c37e5fbfd",
      "metadata": {
        "colab": {
          "base_uri": "https://localhost:8080/"
        },
        "id": "356bf27b-696e-4348-aa16-439c37e5fbfd",
        "outputId": "0961ae33-247d-4788-af06-5bff7fc81dbf"
      },
      "outputs": [
        {
          "output_type": "execute_result",
          "data": {
            "text/plain": [
              "array([[  622,     3],\n",
              "       [  104, 18655]])"
            ]
          },
          "metadata": {},
          "execution_count": 33
        }
      ],
      "source": [
        "# Display the confusion matrix\n",
        "confusion_matrix(y_test, y_pred)"
      ]
    },
    {
      "cell_type": "code",
      "execution_count": 34,
      "id": "6d928029-327e-4ed8-89ef-020ca3f6bc0d",
      "metadata": {
        "colab": {
          "base_uri": "https://localhost:8080/"
        },
        "id": "6d928029-327e-4ed8-89ef-020ca3f6bc0d",
        "outputId": "8b76e1e7-4b92-48b9-e050-24bdcd704b12"
      },
      "outputs": [
        {
          "output_type": "stream",
          "name": "stdout",
          "text": [
            "                   pre       rec       spe        f1       geo       iba       sup\n",
            "\n",
            "  high_risk       0.86      1.00      0.99      0.92      0.99      0.99       625\n",
            "   low_risk       1.00      0.99      1.00      1.00      0.99      0.99     18759\n",
            "\n",
            "avg / total       1.00      0.99      1.00      0.99      0.99      0.99     19384\n",
            "\n"
          ]
        }
      ],
      "source": [
        "#Print the imbalanced classification reoprt\n",
        "print(classification_report_imbalanced(y_test, y_pred))"
      ]
    },
    {
      "cell_type": "markdown",
      "id": "4f08277f-263b-4b44-96b7-261d115d1d35",
      "metadata": {
        "id": "4f08277f-263b-4b44-96b7-261d115d1d35"
      },
      "source": [
        "## Undersampling\n",
        "\n",
        "In this section you will test an undersampling algorithm to determine which algorithm results in the best performance compared to the oversampling algorithms above. You will undersample the data using the Cluster Centroids algorithm and complete the following steps:\n",
        "\n",
        "    1. View the count of the target classes using Counter from the collections library.\n",
        "    2. Use the resampled data to train a logistic regression model.\n",
        "    3. Calculate the balan ced accuracy score from sklearn.metrics \n",
        "    4. Display the confusion matrix from sklearn.metrics. \n",
        "    5 Generate a classification report using the imbalanced_classification_report from imbalanced-learn."
      ]
    },
    {
      "cell_type": "code",
      "execution_count": 35,
      "id": "d6eeb8ac-bd17-4a82-9c05-3a58e942ed41",
      "metadata": {
        "id": "d6eeb8ac-bd17-4a82-9c05-3a58e942ed41"
      },
      "outputs": [],
      "source": [
        "#Resample the data using the ClusterCentroids resampler\n",
        "\n",
        "cc = ClusterCentroids(random_state=1)\n",
        "X_resampled, y_resampled = cc.fit_resample(X_train, y_train)\n"
      ]
    },
    {
      "cell_type": "code",
      "execution_count": 36,
      "id": "9781e8e3-265e-4730-933f-ecb5f2604d1f",
      "metadata": {
        "colab": {
          "base_uri": "https://localhost:8080/"
        },
        "id": "9781e8e3-265e-4730-933f-ecb5f2604d1f",
        "outputId": "0fbd592d-f39f-47ae-a9eb-a6eb54448570"
      },
      "outputs": [
        {
          "output_type": "execute_result",
          "data": {
            "text/plain": [
              "Counter({'high_risk': 1875, 'low_risk': 1875})"
            ]
          },
          "metadata": {},
          "execution_count": 36
        }
      ],
      "source": [
        "#View the count of targer classes with counter\n",
        "Counter(y_resampled)"
      ]
    },
    {
      "cell_type": "code",
      "execution_count": 37,
      "id": "2a4691dc-9496-4aed-a6a3-3910ea072790",
      "metadata": {
        "colab": {
          "base_uri": "https://localhost:8080/"
        },
        "id": "2a4691dc-9496-4aed-a6a3-3910ea072790",
        "outputId": "83ec69d0-5e4e-4d46-f4d1-ef267bc647f5"
      },
      "outputs": [
        {
          "output_type": "execute_result",
          "data": {
            "text/plain": [
              "LogisticRegression(random_state=1)"
            ]
          },
          "metadata": {},
          "execution_count": 37
        }
      ],
      "source": [
        "#Train the Logistic Regression model using the resampled data\n",
        "model = LogisticRegression(solver='lbfgs',random_state=1)\n",
        "model.fit(X_resampled, y_resampled)"
      ]
    },
    {
      "cell_type": "code",
      "execution_count": 38,
      "id": "72d7d8d9-919e-4860-b61c-39c2cbb0d512",
      "metadata": {
        "colab": {
          "base_uri": "https://localhost:8080/"
        },
        "id": "72d7d8d9-919e-4860-b61c-39c2cbb0d512",
        "outputId": "715281be-10ed-4ae1-ff7e-715ef9ab67d7"
      },
      "outputs": [
        {
          "output_type": "execute_result",
          "data": {
            "text/plain": [
              "0.9948279972279972"
            ]
          },
          "metadata": {},
          "execution_count": 38
        }
      ],
      "source": [
        "#Calculate the balanced accuracy score\n",
        "balanced_accuracy_score(y_test, y_pred)"
      ]
    },
    {
      "cell_type": "code",
      "execution_count": 39,
      "id": "266d1fff-fc10-4c4d-be1a-272bed52145d",
      "metadata": {
        "colab": {
          "base_uri": "https://localhost:8080/"
        },
        "id": "266d1fff-fc10-4c4d-be1a-272bed52145d",
        "outputId": "438b0f70-d801-4e1c-c546-30e4d1503393"
      },
      "outputs": [
        {
          "output_type": "execute_result",
          "data": {
            "text/plain": [
              "array([[  608,    17],\n",
              "       [  102, 18657]])"
            ]
          },
          "metadata": {},
          "execution_count": 39
        }
      ],
      "source": [
        "#Display the confusion matrix\n",
        "y_pred = model.predict(X_test)\n",
        "confusion_matrix(y_test, y_pred)"
      ]
    },
    {
      "cell_type": "code",
      "execution_count": 40,
      "id": "9437f0cd-4a36-41bf-a959-8f3eafb422be",
      "metadata": {
        "colab": {
          "base_uri": "https://localhost:8080/"
        },
        "id": "9437f0cd-4a36-41bf-a959-8f3eafb422be",
        "outputId": "456559f7-fb29-4735-a358-16bec829aec5"
      },
      "outputs": [
        {
          "output_type": "stream",
          "name": "stdout",
          "text": [
            "                   pre       rec       spe        f1       geo       iba       sup\n",
            "\n",
            "  high_risk       0.86      0.97      0.99      0.91      0.98      0.97       625\n",
            "   low_risk       1.00      0.99      0.97      1.00      0.98      0.97     18759\n",
            "\n",
            "avg / total       0.99      0.99      0.97      0.99      0.98      0.97     19384\n",
            "\n"
          ]
        }
      ],
      "source": [
        "#Print the imbalanced classification report\n",
        "print(classification_report_imbalanced(y_test, y_pred))"
      ]
    },
    {
      "cell_type": "markdown",
      "id": "cb8d5f87-f701-4dae-aad1-d1e721954e3c",
      "metadata": {
        "tags": [],
        "id": "cb8d5f87-f701-4dae-aad1-d1e721954e3c"
      },
      "source": [
        "## Combination (Over and Under) Sampling\n",
        "\n",
        "In this section, you will test a combination over-and under-sampling algorithms above. You will resample the data using teh SMOTEENN algorithm and complete the following steps:\n",
        "\n",
        "1. View the count of the target classes using Counter from the collections library.\n",
        "2. Use the resamlped data to train a logistic regression model.\n",
        "3. Calculate the balanced accuracy score from sklearn.metrics.\n",
        "4. Display the confusion matrix form sklearn.metrics.\n",
        "5. Generate a classification report using the imbalanced_classification_report from imbalanced-learn.\n",
        "\n",
        "Note: Use a random state of 1 for each sampling algorithm to ensure consistency between tests"
      ]
    },
    {
      "cell_type": "code",
      "execution_count": 41,
      "id": "c1f6c3e2-b9ab-45a4-a1b6-a4683a44a44b",
      "metadata": {
        "id": "c1f6c3e2-b9ab-45a4-a1b6-a4683a44a44b"
      },
      "outputs": [],
      "source": [
        "#Resample the training data with SMOTEENN\n",
        "sm = SMOTEENN(random_state=1)\n",
        "X_resampled, y_resampled = sm.fit_resample(X_train, y_train)\n"
      ]
    },
    {
      "cell_type": "code",
      "execution_count": 42,
      "id": "83f782b9-00b8-4286-88c4-574a028402b1",
      "metadata": {
        "colab": {
          "base_uri": "https://localhost:8080/"
        },
        "id": "83f782b9-00b8-4286-88c4-574a028402b1",
        "outputId": "cfbd5ea5-d11d-47f2-fefd-3dbfea5b2b79"
      },
      "outputs": [
        {
          "output_type": "execute_result",
          "data": {
            "text/plain": [
              "Counter({'high_risk': 55329, 'low_risk': 55901})"
            ]
          },
          "metadata": {},
          "execution_count": 42
        }
      ],
      "source": [
        "#View the count of target classes with Counter\n",
        "Counter(y_resampled)"
      ]
    },
    {
      "cell_type": "code",
      "execution_count": 43,
      "id": "7d76b00d-be2d-4bca-b17c-6569c82c71e4",
      "metadata": {
        "id": "7d76b00d-be2d-4bca-b17c-6569c82c71e4"
      },
      "outputs": [],
      "source": [
        "#TRAIN THE LOGISTIC REGRESSION MODEL USING THE RESAMPLED DATA\n",
        "model = LogisticRegression(solver='lbfgs',random_state=1)"
      ]
    },
    {
      "cell_type": "code",
      "execution_count": 44,
      "id": "60228e56-17e8-4d54-bdc3-110f0e011eb9",
      "metadata": {
        "colab": {
          "base_uri": "https://localhost:8080/"
        },
        "id": "60228e56-17e8-4d54-bdc3-110f0e011eb9",
        "outputId": "7db20437-e7ec-4f22-c8ea-3f55cd05640d"
      },
      "outputs": [
        {
          "output_type": "execute_result",
          "data": {
            "text/plain": [
              "LogisticRegression(random_state=1)"
            ]
          },
          "metadata": {},
          "execution_count": 44
        }
      ],
      "source": [
        "#Fit the model\n",
        "model.fit(X_resampled, y_resampled)"
      ]
    },
    {
      "cell_type": "code",
      "execution_count": 45,
      "id": "b8408b0f-4f07-4ac1-bb7d-eaff57e329e7",
      "metadata": {
        "colab": {
          "base_uri": "https://localhost:8080/"
        },
        "id": "b8408b0f-4f07-4ac1-bb7d-eaff57e329e7",
        "outputId": "c7e4683c-aeba-41d7-e170-01e3759d139f"
      },
      "outputs": [
        {
          "output_type": "execute_result",
          "data": {
            "text/plain": [
              "0.9836813049736126"
            ]
          },
          "metadata": {},
          "execution_count": 45
        }
      ],
      "source": [
        "#Calculate the balanced accuracy score\n",
        "balanced_accuracy_score(y_test, y_pred)"
      ]
    },
    {
      "cell_type": "code",
      "execution_count": 46,
      "id": "96f3826a-8a0f-4513-a278-061b60aa1537",
      "metadata": {
        "colab": {
          "base_uri": "https://localhost:8080/"
        },
        "id": "96f3826a-8a0f-4513-a278-061b60aa1537",
        "outputId": "5237e64f-defd-4abc-a2c2-abd8c514e52e"
      },
      "outputs": [
        {
          "output_type": "execute_result",
          "data": {
            "text/plain": [
              "array([[  622,     3],\n",
              "       [  107, 18652]])"
            ]
          },
          "metadata": {},
          "execution_count": 46
        }
      ],
      "source": [
        "#Display the confusion matrix\n",
        "y_pred = model.predict(X_test)\n",
        "confusion_matrix(y_test, y_pred)"
      ]
    },
    {
      "cell_type": "code",
      "execution_count": 47,
      "id": "4baee82e-589a-4a20-bf52-ff92085f9da9",
      "metadata": {
        "colab": {
          "base_uri": "https://localhost:8080/"
        },
        "id": "4baee82e-589a-4a20-bf52-ff92085f9da9",
        "outputId": "53cbf280-5263-40f8-ac25-796cc7b75801"
      },
      "outputs": [
        {
          "output_type": "stream",
          "name": "stdout",
          "text": [
            "                   pre       rec       spe        f1       geo       iba       sup\n",
            "\n",
            "  high_risk       0.85      1.00      0.99      0.92      0.99      0.99       625\n",
            "   low_risk       1.00      0.99      1.00      1.00      0.99      0.99     18759\n",
            "\n",
            "avg / total       1.00      0.99      1.00      0.99      0.99      0.99     19384\n",
            "\n"
          ]
        }
      ],
      "source": [
        "#Print the classification report\n",
        "print(classification_report_imbalanced(y_test, y_pred))"
      ]
    },
    {
      "cell_type": "markdown",
      "id": "39c2ffd0-74fd-4cff-bfbb-0206d9a1735f",
      "metadata": {
        "id": "39c2ffd0-74fd-4cff-bfbb-0206d9a1735f"
      },
      "source": [
        "### Final Questions\n",
        "\n",
        "Q.Which model had the best balanced accuracy score?\n",
        "Answer: The Smote Oversampling algorithm and the Cluster Centroid algorithm both had the highest balanced accuracy score of approximately 0.9948.\n",
        "\n",
        "Q.Which model had the best recall score?\n",
        "Answer: All the models had an average recall score of 0.99. The random over sampler and the Smote oversampler both had the highest recall score of 1 for high risk.\n",
        "\n",
        "Q.Which model had the best geometric mean score?\n",
        "Answer: The best geometric mean score was 0.99 and the Random over sampler, the Smote oversampler and the Smoteenn all had this score."
      ]
    },
    {
      "cell_type": "code",
      "execution_count": 47,
      "id": "81fa933e-f3f9-4611-84db-6375783a1dbf",
      "metadata": {
        "id": "81fa933e-f3f9-4611-84db-6375783a1dbf"
      },
      "outputs": [],
      "source": [
        ""
      ]
    }
  ],
  "metadata": {
    "kernelspec": {
      "display_name": "Python 3 (ipykernel)",
      "language": "python",
      "name": "python3"
    },
    "language_info": {
      "codemirror_mode": {
        "name": "ipython",
        "version": 3
      },
      "file_extension": ".py",
      "mimetype": "text/x-python",
      "name": "python",
      "nbconvert_exporter": "python",
      "pygments_lexer": "ipython3",
      "version": "3.7.7"
    },
    "colab": {
      "name": "Homework-11-credit_risk_resamplin (1).ipynb",
      "provenance": []
    }
  },
  "nbformat": 4,
  "nbformat_minor": 5
}